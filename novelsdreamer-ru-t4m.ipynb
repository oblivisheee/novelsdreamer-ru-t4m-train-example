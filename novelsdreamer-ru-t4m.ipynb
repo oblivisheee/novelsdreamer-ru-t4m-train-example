{
 "cells": [
  {
   "cell_type": "code",
   "execution_count": 1,
   "metadata": {},
   "outputs": [],
   "source": [
    "import tensorflow as tf\n",
    "from transformer_custom import Transformer, beam_search_decoder\n",
    "from create_config import transformer_config, trainer_config\n",
    "from tf_text_preprocess import TextPreprocess\n",
    "from tf_text_postprocess import TextPostprocessor\n",
    "from regularization import RegularizedDenseLayer\n",
    "from get_dataset import gather_dataset\n",
    "import matplotlib.pyplot as plt\n",
    "import pymorphy2\n",
    "import datetime"
   ]
  },
  {
   "cell_type": "code",
   "execution_count": 3,
   "metadata": {},
   "outputs": [
    {
     "name": "stderr",
     "output_type": "stream",
     "text": [
      "2023-10-12 13:52:29.494051: I tensorflow/core/common_runtime/executor.cc:1197] [/device:CPU:0] (DEBUG INFO) Executor start aborting (this does not indicate an error and you can ignore this message): INVALID_ARGUMENT: You must feed a value for placeholder tensor 'Placeholder/_0' with dtype string and shape [1]\n",
      "\t [[{{node Placeholder/_0}}]]\n",
      "2023-10-12 13:52:29.544640: I tensorflow/core/common_runtime/executor.cc:1197] [/device:CPU:0] (DEBUG INFO) Executor start aborting (this does not indicate an error and you can ignore this message): INVALID_ARGUMENT: You must feed a value for placeholder tensor 'Placeholder/_0' with dtype string and shape [1]\n",
      "\t [[{{node Placeholder/_0}}]]\n"
     ]
    },
    {
     "ename": "TypeError",
     "evalue": "Invalid `datasets`. `datasets` is expected to be a (nested) structure of `tf.data.Dataset` objects but encountered object of type <class 'tensorflow.python.data.ops.dataset_ops._NumpyIterator'>.",
     "output_type": "error",
     "traceback": [
      "\u001b[0;31m---------------------------------------------------------------------------\u001b[0m",
      "\u001b[0;31mTypeError\u001b[0m                                 Traceback (most recent call last)",
      "Cell \u001b[0;32mIn[3], line 2\u001b[0m\n\u001b[1;32m      1\u001b[0m dataset_path_main \u001b[39m=\u001b[39m \u001b[39m'\u001b[39m\u001b[39mdataset\u001b[39m\u001b[39m'\u001b[39m\n\u001b[0;32m----> 2\u001b[0m dataset \u001b[39m=\u001b[39m gather_dataset(dataset_path_main)\n\u001b[1;32m      3\u001b[0m datasets_en, datasets_ru \u001b[39m=\u001b[39m dataset\u001b[39m.\u001b[39munbatch()\n\u001b[1;32m      5\u001b[0m text_processor \u001b[39m=\u001b[39m TextPreprocess()\n",
      "File \u001b[0;32m~/Documents/GitHub/novelsdreamer-ru-t4m/get_dataset.py:56\u001b[0m, in \u001b[0;36mgather_dataset\u001b[0;34m(path)\u001b[0m\n\u001b[1;32m     54\u001b[0m english_texts \u001b[39m=\u001b[39m tf\u001b[39m.\u001b[39mdata\u001b[39m.\u001b[39mDataset\u001b[39m.\u001b[39mfrom_tensor_slices(english_texts)\n\u001b[1;32m     55\u001b[0m russian_texts \u001b[39m=\u001b[39m tf\u001b[39m.\u001b[39mdata\u001b[39m.\u001b[39mDataset\u001b[39m.\u001b[39mfrom_tensor_slices(russian_texts)\n\u001b[0;32m---> 56\u001b[0m dataset \u001b[39m=\u001b[39m tf\u001b[39m.\u001b[39mdata\u001b[39m.\u001b[39mDataset\u001b[39m.\u001b[39mzip((english_texts\u001b[39m.\u001b[39mas_numpy_iterator(), russian_texts\u001b[39m.\u001b[39mas_numpy_iterator()))\n\u001b[1;32m     57\u001b[0m \u001b[39mreturn\u001b[39;00m dataset\n",
      "File \u001b[0;32m~/miniconda3/lib/python3.11/site-packages/tensorflow/python/data/ops/dataset_ops.py:1068\u001b[0m, in \u001b[0;36mDatasetV2.zip\u001b[0;34m(datasets, name)\u001b[0m\n\u001b[1;32m   1064\u001b[0m \u001b[39m# Loaded lazily due to a circular dependency (dataset_ops -> zip_op ->\u001b[39;00m\n\u001b[1;32m   1065\u001b[0m \u001b[39m# dataset_ops).\u001b[39;00m\n\u001b[1;32m   1066\u001b[0m \u001b[39m# pylint: disable=g-import-not-at-top,protected-access\u001b[39;00m\n\u001b[1;32m   1067\u001b[0m \u001b[39mfrom\u001b[39;00m \u001b[39mtensorflow\u001b[39;00m\u001b[39m.\u001b[39;00m\u001b[39mpython\u001b[39;00m\u001b[39m.\u001b[39;00m\u001b[39mdata\u001b[39;00m\u001b[39m.\u001b[39;00m\u001b[39mops\u001b[39;00m \u001b[39mimport\u001b[39;00m zip_op\n\u001b[0;32m-> 1068\u001b[0m \u001b[39mreturn\u001b[39;00m zip_op\u001b[39m.\u001b[39m_zip(datasets, name)\n",
      "File \u001b[0;32m~/miniconda3/lib/python3.11/site-packages/tensorflow/python/data/ops/zip_op.py:23\u001b[0m, in \u001b[0;36m_zip\u001b[0;34m(datasets, name)\u001b[0m\n\u001b[1;32m     22\u001b[0m \u001b[39mdef\u001b[39;00m \u001b[39m_zip\u001b[39m(datasets, name):  \u001b[39m# pylint: disable=redefined-builtin\u001b[39;00m\n\u001b[0;32m---> 23\u001b[0m   \u001b[39mreturn\u001b[39;00m _ZipDataset(datasets, name)\n",
      "File \u001b[0;32m~/miniconda3/lib/python3.11/site-packages/tensorflow/python/data/ops/zip_op.py:39\u001b[0m, in \u001b[0;36m_ZipDataset.__init__\u001b[0;34m(self, datasets, name)\u001b[0m\n\u001b[1;32m     34\u001b[0m       \u001b[39mraise\u001b[39;00m \u001b[39mTypeError\u001b[39;00m(\u001b[39m\"\u001b[39m\u001b[39mInvalid `datasets`. `datasets` is expected to be a \u001b[39m\u001b[39m\"\u001b[39m\n\u001b[1;32m     35\u001b[0m                       \u001b[39m\"\u001b[39m\u001b[39m(nested) structure of `tf.data.Dataset` objects. \u001b[39m\u001b[39m\"\u001b[39m\n\u001b[1;32m     36\u001b[0m                       \u001b[39m\"\u001b[39m\u001b[39mPython `list` is not supported and you should use \u001b[39m\u001b[39m\"\u001b[39m\n\u001b[1;32m     37\u001b[0m                       \u001b[39m\"\u001b[39m\u001b[39m`tuple` instead.\u001b[39m\u001b[39m\"\u001b[39m)\n\u001b[1;32m     38\u001b[0m     \u001b[39melse\u001b[39;00m:\n\u001b[0;32m---> 39\u001b[0m       \u001b[39mraise\u001b[39;00m \u001b[39mTypeError\u001b[39;00m(\u001b[39mf\u001b[39m\u001b[39m\"\u001b[39m\u001b[39mInvalid `datasets`. `datasets` is expected to be a \u001b[39m\u001b[39m\"\u001b[39m\n\u001b[1;32m     40\u001b[0m                       \u001b[39mf\u001b[39m\u001b[39m\"\u001b[39m\u001b[39m(nested) structure of `tf.data.Dataset` objects \u001b[39m\u001b[39m\"\u001b[39m\n\u001b[1;32m     41\u001b[0m                       \u001b[39mf\u001b[39m\u001b[39m\"\u001b[39m\u001b[39mbut encountered object of type \u001b[39m\u001b[39m{\u001b[39;00m\u001b[39mtype\u001b[39m(ds)\u001b[39m}\u001b[39;00m\u001b[39m.\u001b[39m\u001b[39m\"\u001b[39m)\n\u001b[1;32m     42\u001b[0m \u001b[39mself\u001b[39m\u001b[39m.\u001b[39m_datasets \u001b[39m=\u001b[39m datasets\n\u001b[1;32m     43\u001b[0m \u001b[39mself\u001b[39m\u001b[39m.\u001b[39m_structure \u001b[39m=\u001b[39m nest\u001b[39m.\u001b[39mpack_sequence_as(\n\u001b[1;32m     44\u001b[0m     \u001b[39mself\u001b[39m\u001b[39m.\u001b[39m_datasets,\n\u001b[1;32m     45\u001b[0m     [ds\u001b[39m.\u001b[39melement_spec \u001b[39mfor\u001b[39;00m ds \u001b[39min\u001b[39;00m nest\u001b[39m.\u001b[39mflatten(\u001b[39mself\u001b[39m\u001b[39m.\u001b[39m_datasets)])\n",
      "\u001b[0;31mTypeError\u001b[0m: Invalid `datasets`. `datasets` is expected to be a (nested) structure of `tf.data.Dataset` objects but encountered object of type <class 'tensorflow.python.data.ops.dataset_ops._NumpyIterator'>."
     ]
    }
   ],
   "source": [
    "dataset_path_main = 'dataset'\n",
    "dataset = gather_dataset(dataset_path_main)\n",
    "datasets_en, datasets_ru = dataset.unbatch()\n",
    "\n",
    "text_processor = TextPreprocess()\n",
    "datasets_en = datasets_en.map(lambda x: text_processor.tokenize_text(x))\n",
    "datasets_en = datasets_en.map(lambda x: text_processor.pad_sequences(x))\n",
    "\n",
    "datasets_ru = datasets_ru.map(lambda x: list(map(lambda y: pymorphy2.MorphAnalyzer().parse(y)[0].normal_form, x)))\n",
    "datasets_ru = datasets_ru.map(lambda x: text_processor.tokenize_text(x))\n",
    "datasets_ru = datasets_ru.map(lambda x: text_processor.pad_sequences(x))\n",
    "print(datasets_en)\n",
    "print(datasets_ru)"
   ]
  },
  {
   "cell_type": "code",
   "execution_count": null,
   "metadata": {},
   "outputs": [],
   "source": [
    "config = transformer_config()\n",
    "config_train = trainer_config()\n",
    "\n",
    "embedding_layer = tf.keras.layers.Embedding(input_dim=config[\"input_vocab_size\"], output_dim=config[\"d_model\"])\n",
    "\n",
    "transformer = Transformer(num_layers=config[\"num_layers\"], d_model=config[\"d_model\"], num_heads=config[\"num_heads\"], dff=config[\"dff\"],\n",
    "                          input_vocab_size=config[\"input_vocab_size\"], pe_input=config[\"maximum_position_encoding\"],\n",
    "                          rate=config[\"dropout_rate\"], embedding_layer=embedding_layer)\n",
    "\n",
    "regularized_layer = RegularizedDenseLayer(units=config[\"d_model\"])\n",
    "\n",
    "loss_object = tf.keras.losses.SparseCategoricalCrossentropy(from_logits=True, reduction=config_train['loss_reduction'])\n",
    "optimizer = tf.keras.optimizers.Adam(learning_rate=config_train['learning_rate'])\n",
    "\n",
    "morph = pymorphy2.MorphAnalyzer()"
   ]
  },
  {
   "cell_type": "code",
   "execution_count": null,
   "metadata": {},
   "outputs": [],
   "source": [
    "@tf.function\n",
    "def train_step(inp, tar):\n",
    "    tar_inp = tar[:, :-1]\n",
    "    tar_real = tar[:, 1:]\n",
    "\n",
    "    with tf.GradientTape() as tape:\n",
    "        predictions, _ = transformer(inp, tar_inp,\n",
    "                                     training=True,\n",
    "                                     enc_padding_mask=None,\n",
    "                                     look_ahead_mask=None,\n",
    "                                     dec_padding_mask=None)\n",
    "        predictions = regularized_layer(predictions)\n",
    "        loss = loss_object(tar_real, predictions)\n",
    "\n",
    "    gradients = tape.gradient(loss, transformer.trainable_variables)\n",
    "    optimizer.apply_gradients(zip(gradients, transformer.trainable_variables))\n",
    "\n",
    "    return loss, predictions\n",
    "\n",
    "text_postprocessor_en = TextPostprocessor(text_processor.tokenizer)\n",
    "text_postprocessor_ru = TextPostprocessor(text_processor.tokenizer)\n",
    "\n",
    "logdir = \"logs/fit/\" + datetime.datetime.now().strftime(\"%Y%m%d-%H%M%S\")\n",
    "tensorboard_callback = tf.keras.callbacks.TensorBoard(log_dir=logdir)\n",
    "file_writer = tf.summary.create_file_writer(logdir)\n",
    "epoch_train = config_train['epoch_train']"
   ]
  },
  {
   "cell_type": "code",
   "execution_count": null,
   "metadata": {},
   "outputs": [],
   "source": [
    "for epoch in range(epoch_train):\n",
    "    for (batch_en, batch_ru) in zip(datasets_en, datasets_ru):\n",
    "        inp_en, tar_en = batch_en\n",
    "        inp_ru, tar_ru = batch_ru\n",
    "        loss_en, predictions_en = train_step(inp_en, tar_en)\n",
    "        loss_ru, predictions_ru = train_step(inp_ru, tar_ru)\n",
    "        print(f'Epoch {epoch + 1} Loss EN {loss_en:.4f} Loss RU {loss_ru:.4f}')\n",
    "        with file_writer.as_default():\n",
    "            tf.summary.scalar('loss_en', data=loss_en, step=epoch)\n",
    "            tf.summary.scalar('loss_ru', data=loss_ru, step=epoch)\n",
    "\n",
    "        # Postprocess the output\n",
    "        translated_texts_en = text_postprocessor_en.sequences_to_texts(predictions_en)\n",
    "        translated_texts_ru = text_postprocessor_ru.sequences_to_texts(predictions_ru)\n",
    "        print(f'Translated texts EN: {translated_texts_en}')\n",
    "        print(f'Translated texts RU: {translated_texts_ru}')\n",
    "\n",
    "        # Beam search\n",
    "        beam_search_result_en = beam_search_decoder(predictions_en, 3)\n",
    "        beam_search_result_ru = beam_search_decoder(predictions_ru, 3)\n",
    "        print(f'Beam search result EN: {beam_search_result_en}')\n",
    "        print(f'Beam search result RU: {beam_search_result_ru}')\n",
    "\n",
    "    if (epoch + 1) % 5 == 0:\n",
    "        weights_dict = {var.name: var.numpy() for var in transformer.trainable_variables}\n",
    "        transformer.save_model(weights_dict, f'novelsdreamer-ru-t4m_epoch_{epoch+1}.safetensors')\n",
    "        loss_en_values = [loss_en.numpy() for loss_en in loss_en]\n",
    "        loss_ru_values = [loss_ru.numpy() for loss_ru in loss_ru]\n",
    "        fig, ax = plt.subplots()\n",
    "        scatter = ax.scatter(loss_en_values, loss_ru_values)\n",
    "        ax.set_xlabel('Loss EN')\n",
    "        ax.set_ylabel('Loss RU')\n",
    "        ax.set_title('Training Loss')\n",
    "        plt.savefig(f'novelsdreamer-ru-t4m_epoch_{epoch+1}.png')\n",
    "        plt.close()\n",
    "\n",
    "    if epoch == 9:\n",
    "        transformer.save_model(weights_dict, f'novelsdreamer-ru-t4m_epoch_weights_final.safetensors')\n",
    "        loss_en_values = [loss_en.numpy() for loss_en in loss_en]\n",
    "        loss_ru_values = [loss_ru.numpy() for loss_ru in loss_ru]\n",
    "        fig, ax = plt.subplots()\n",
    "        scatter = ax.scatter(loss_en_values, loss_ru_values)\n",
    "        ax.set_xlabel('Loss EN')\n",
    "        ax.set_ylabel('Loss RU')\n",
    "        ax.set_title('Training Loss')\n",
    "        plt.savefig(f'novelsdreamer-ru-t4m_epoch_{epoch+1}.png')\n",
    "        plt.close()\n",
    "\n",
    "    if epoch == 9:\n",
    "        with file_writer.as_default():\n",
    "            tf.summary.scalar('final_loss_en', data=loss_en, step=epoch)\n",
    "            tf.summary.scalar('final_loss_ru', data=loss_ru, step=epoch)\n",
    "        file_writer.close()"
   ]
  },
  {
   "cell_type": "code",
   "execution_count": null,
   "metadata": {},
   "outputs": [],
   "source": [
    "loss_en_values = [loss.numpy() for loss in loss_en]\n",
    "loss_ru_values = [loss.numpy() for loss in loss_ru]\n",
    "\n",
    "fig, ax = plt.subplots()\n",
    "scatter = ax.scatter(loss_en_values, loss_ru_values)\n",
    "\n",
    "ax.set_xlabel('Loss EN')\n",
    "ax.set_ylabel('Loss RU')\n",
    "ax.set_title('Training Loss')\n",
    "\n",
    "plt.show()"
   ]
  },
  {
   "cell_type": "code",
   "execution_count": null,
   "metadata": {},
   "outputs": [],
   "source": [
    "#other\n",
    "import matplotlib.pyplot as plt\n",
    "\n",
    "loss_en_values = [loss.numpy() for loss in loss_en]\n",
    "loss_ru_values = [loss.numpy() for loss in loss_ru]\n",
    "\n",
    "fig, ax = plt.subplots()\n",
    "scatter = ax.scatter(loss_en_values, loss_ru_values)\n",
    "\n",
    "ax.set_xlabel('Loss EN')\n",
    "ax.set_ylabel('Loss RU')\n",
    "ax.set_title('Training Loss')\n",
    "\n",
    "plt.show()\n"
   ]
  }
 ],
 "metadata": {
  "kernelspec": {
   "display_name": "Python 3",
   "language": "python",
   "name": "python3"
  },
  "language_info": {
   "codemirror_mode": {
    "name": "ipython",
    "version": 3
   },
   "file_extension": ".py",
   "mimetype": "text/x-python",
   "name": "python",
   "nbconvert_exporter": "python",
   "pygments_lexer": "ipython3",
   "version": "3.11.5"
  },
  "orig_nbformat": 4
 },
 "nbformat": 4,
 "nbformat_minor": 2
}
